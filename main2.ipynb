{
 "cells": [
  {
   "cell_type": "code",
   "execution_count": 4,
   "metadata": {},
   "outputs": [],
   "source": [
    "import pandas as pd\n",
    "import numpy as np\n",
    "from sklearn.model_selection import train_test_split\n",
    "from sklearn.ensemble import RandomForestClassifier\n",
    "from sklearn.model_selection import GridSearchCV\n",
    "from sklearn import preprocessing\n",
    "import pickle\n",
    "import os\n",
    "from  xml.dom import minidom\n",
    "import xmltodict\n",
    "import json\n",
    "\n"
   ]
  },
  {
   "cell_type": "code",
   "execution_count": 33,
   "metadata": {},
   "outputs": [
    {
     "name": "stdout",
     "output_type": "stream",
     "text": [
      "<class 'pandas.core.frame.DataFrame'>\n",
      "RangeIndex: 62485 entries, 0 to 62484\n",
      "Data columns (total 18 columns):\n",
      " #   Column              Non-Null Count  Dtype \n",
      "---  ------              --------------  ----- \n",
      " 0   FileName            62485 non-null  object\n",
      " 1   md5Hash             62485 non-null  object\n",
      " 2   Machine             62485 non-null  int64 \n",
      " 3   DebugSize           62485 non-null  int64 \n",
      " 4   DebugRVA            62485 non-null  int64 \n",
      " 5   MajorImageVersion   62485 non-null  int64 \n",
      " 6   MajorOSVersion      62485 non-null  int64 \n",
      " 7   ExportRVA           62485 non-null  int64 \n",
      " 8   ExportSize          62485 non-null  int64 \n",
      " 9   IatVRA              62485 non-null  int64 \n",
      " 10  MajorLinkerVersion  62485 non-null  int64 \n",
      " 11  MinorLinkerVersion  62485 non-null  int64 \n",
      " 12  NumberOfSections    62485 non-null  int64 \n",
      " 13  SizeOfStackReserve  62485 non-null  int64 \n",
      " 14  DllCharacteristics  62485 non-null  int64 \n",
      " 15  ResourceSize        62485 non-null  int64 \n",
      " 16  BitcoinAddresses    62485 non-null  int64 \n",
      " 17  Benign              62485 non-null  int64 \n",
      "dtypes: int64(16), object(2)\n",
      "memory usage: 8.6+ MB\n"
     ]
    }
   ],
   "source": [
    "df = pd.read_csv(\"Dataset/Ransomware.csv\")\n",
    "df.dropna(how = 'any' , inplace = True)\n",
    "df.info()\n"
   ]
  },
  {
   "cell_type": "code",
   "execution_count": 34,
   "metadata": {},
   "outputs": [
    {
     "data": {
      "text/plain": [
       "Index(['FileName', 'md5Hash', 'Machine', 'DebugSize', 'DebugRVA',\n",
       "       'MajorImageVersion', 'MajorOSVersion', 'ExportRVA', 'ExportSize',\n",
       "       'IatVRA', 'MajorLinkerVersion', 'MinorLinkerVersion',\n",
       "       'NumberOfSections', 'SizeOfStackReserve', 'DllCharacteristics',\n",
       "       'ResourceSize', 'BitcoinAddresses', 'Benign'],\n",
       "      dtype='object')"
      ]
     },
     "execution_count": 34,
     "metadata": {},
     "output_type": "execute_result"
    }
   ],
   "source": [
    "df.columns"
   ]
  },
  {
   "cell_type": "code",
   "execution_count": 35,
   "metadata": {},
   "outputs": [
    {
     "name": "stdout",
     "output_type": "stream",
     "text": [
      "<class 'pandas.core.frame.DataFrame'>\n",
      "RangeIndex: 62485 entries, 0 to 62484\n",
      "Data columns (total 11 columns):\n",
      " #   Column              Non-Null Count  Dtype\n",
      "---  ------              --------------  -----\n",
      " 0   DebugSize           62485 non-null  int64\n",
      " 1   ExportSize          62485 non-null  int64\n",
      " 2   IatVRA              62485 non-null  int64\n",
      " 3   SizeOfStackReserve  62485 non-null  int64\n",
      " 4   DllCharacteristics  62485 non-null  int64\n",
      " 5   MajorLinkerVersion  62485 non-null  int64\n",
      " 6   MinorLinkerVersion  62485 non-null  int64\n",
      " 7   NumberOfSections    62485 non-null  int64\n",
      " 8   ResourceSize        62485 non-null  int64\n",
      " 9   DebugRVA            62485 non-null  int64\n",
      " 10  ExportRVA           62485 non-null  int64\n",
      "dtypes: int64(11)\n",
      "memory usage: 5.2 MB\n"
     ]
    }
   ],
   "source": [
    "df_features = df [['DebugSize','ExportSize','IatVRA','SizeOfStackReserve','DllCharacteristics', 'MajorLinkerVersion', 'MinorLinkerVersion', 'NumberOfSections','ResourceSize','DebugRVA','ExportRVA']]\n",
    "df_features.info()"
   ]
  },
  {
   "cell_type": "code",
   "execution_count": 36,
   "metadata": {},
   "outputs": [
    {
     "data": {
      "text/plain": [
       "0    35367\n",
       "1    27118\n",
       "Name: Benign, dtype: int64"
      ]
     },
     "execution_count": 36,
     "metadata": {},
     "output_type": "execute_result"
    }
   ],
   "source": [
    "df_result = df[\"Benign\"]\n",
    "#Convert target column value to int (27118 good(1) and 35367 infrcted(3))\n",
    "df_result.value_counts()"
   ]
  },
  {
   "cell_type": "code",
   "execution_count": 37,
   "metadata": {},
   "outputs": [
    {
     "name": "stdout",
     "output_type": "stream",
     "text": [
      "feature_train : (49988, 11)\n",
      "feature_test : (12497, 11)\n",
      "result_train : (49988,)\n",
      "result_test : (12497,)\n"
     ]
    }
   ],
   "source": [
    "feature_train, feature_test, result_train, result_test = train_test_split(df_features, df_result, test_size=0.20, random_state=42)\n",
    "print(f'feature_train : {feature_train.shape}')\n",
    "print(f'feature_test : {feature_test.shape}')\n",
    "print(f'result_train : {result_train.shape}')\n",
    "print(f'result_test : {result_test.shape}')"
   ]
  },
  {
   "cell_type": "code",
   "execution_count": 38,
   "metadata": {},
   "outputs": [
    {
     "name": "stdout",
     "output_type": "stream",
     "text": [
      "{'n_estimators': [10, 31, 52, 73, 94, 115, 136, 157, 178, 200], 'max_features': ['log2', 'sqrt', None], 'max_depth': [2, 5, 8, 11], 'min_samples_split': [2, 3, 4, 5], 'min_samples_leaf': [1, 2], 'bootstrap': [False]}\n"
     ]
    }
   ],
   "source": [
    "#Generate Hyperparameter lists for tuning\n",
    "\n",
    "# Number of trees in random forest\n",
    "n_estimators = [int(x) for x in np.linspace(start = 10, stop = 200, num = 10)]\n",
    "# Number of features to consider at every split\n",
    "max_features = ['log2', 'sqrt', None]\n",
    "# Maximum number of levels in tree\n",
    "max_depth = [2,5,8,11]\n",
    "# Minimum number of samples required to split a node\n",
    "min_samples_split = [2,3,4,5]\n",
    "# Minimum number of samples required at each leaf node\n",
    "min_samples_leaf = [1, 2]\n",
    "# Method of selecting samples for training each tree\n",
    "bootstrap = [False]\n",
    "\n",
    "param_grid = {'n_estimators': n_estimators,\n",
    "               'max_features': max_features,\n",
    "               'max_depth': max_depth,\n",
    "               'min_samples_split': min_samples_split,\n",
    "               'min_samples_leaf': min_samples_leaf,\n",
    "               'bootstrap': bootstrap}\n",
    "print(param_grid)"
   ]
  },
  {
   "cell_type": "code",
   "execution_count": 39,
   "metadata": {},
   "outputs": [
    {
     "name": "stdout",
     "output_type": "stream",
     "text": [
      "Fitting 3 folds for each of 960 candidates, totalling 2880 fits\n"
     ]
    },
    {
     "data": {
      "text/plain": [
       "{'bootstrap': False,\n",
       " 'max_depth': 11,\n",
       " 'max_features': 'sqrt',\n",
       " 'min_samples_leaf': 1,\n",
       " 'min_samples_split': 3,\n",
       " 'n_estimators': 10}"
      ]
     },
     "execution_count": 39,
     "metadata": {},
     "output_type": "execute_result"
    }
   ],
   "source": [
    "rfc_Model = RandomForestClassifier()\n",
    "rfc_Grid = GridSearchCV(estimator = rfc_Model, param_grid = param_grid, cv = 3, verbose=2, n_jobs = 5)\n",
    "rfc_Grid.fit(feature_train , result_train )\n",
    "rfc_Grid.best_params_"
   ]
  },
  {
   "cell_type": "code",
   "execution_count": 40,
   "metadata": {},
   "outputs": [
    {
     "data": {
      "text/plain": [
       "0.9930383291990078"
      ]
     },
     "execution_count": 40,
     "metadata": {},
     "output_type": "execute_result"
    }
   ],
   "source": [
    "rfc_Grid.score(feature_test,result_test)"
   ]
  },
  {
   "cell_type": "code",
   "execution_count": 41,
   "metadata": {},
   "outputs": [],
   "source": [
    "classifier= RandomForestClassifier(bootstrap= rfc_Grid.best_params_[\"bootstrap\"],\n",
    " max_depth= rfc_Grid.best_params_[\"max_depth\"],\n",
    " max_features= rfc_Grid.best_params_[\"max_features\"],\n",
    " min_samples_leaf= rfc_Grid.best_params_[\"min_samples_leaf\"],\n",
    " min_samples_split= rfc_Grid.best_params_[\"min_samples_split\"],\n",
    " n_estimators= rfc_Grid.best_params_[\"n_estimators\"])  \n",
    "RansomwareDetector_RandomForest = classifier.fit(feature_train,result_train)  \n"
   ]
  },
  {
   "cell_type": "code",
   "execution_count": 42,
   "metadata": {},
   "outputs": [],
   "source": [
    "with open(\"Models/RansomwareDetector_RandomForest\",'wb') as f:\n",
    "    pickle.dump(RansomwareDetector_RandomForest,f)"
   ]
  },
  {
   "cell_type": "code",
   "execution_count": 1,
   "metadata": {},
   "outputs": [
    {
     "name": "stdout",
     "output_type": "stream",
     "text": [
      "{'DebugSize': [84], 'ExportSize': [84], 'IatVRA': [1990656], 'SizeOfStackReserve': [1048576], 'DllCharacteristics': [33120], 'MajorLinkerVersion': [14], 'MinorLinkerVersion': [37], 'NumberOfSections': [6], 'ResourceSize': [0], 'DebugRVA': [2423776], 'ExportRVA': [0]}\n",
      "   DebugSize  ExportSize   IatVRA  SizeOfStackReserve  DllCharacteristics  \\\n",
      "0         84          84  1990656             1048576               33120   \n",
      "\n",
      "   MajorLinkerVersion  MinorLinkerVersion  NumberOfSections  ResourceSize  \\\n",
      "0                  14                  37                 6             0   \n",
      "\n",
      "   DebugRVA  ExportRVA  \n",
      "0   2423776          0  \n"
     ]
    }
   ],
   "source": [
    "import pefile\n",
    "import pandas as pd\n",
    "\n",
    "pe = pefile.PE(\"protoc-gen-grpc-web-1.5.0-windows-x86_64.exe\", fast_load=True)\n",
    "\n",
    "\n",
    "\n",
    "features ={}\n",
    "# Version of linker that produced file.\n",
    "features = features|{\"DebugSize\": [pe.OPTIONAL_HEADER.DATA_DIRECTORY[6].Size]}\n",
    "features = features|{\"ExportSize\": [pe.OPTIONAL_HEADER.DATA_DIRECTORY[6].Size]}\n",
    "features = features|{\"IatVRA\":[pe.OPTIONAL_HEADER.DATA_DIRECTORY[12].VirtualAddress]}\n",
    "features = features|{\"SizeOfStackReserve\": [pe.OPTIONAL_HEADER.SizeOfStackReserve]}\n",
    "features = features|{\"DllCharacteristics\": [pe.OPTIONAL_HEADER.DllCharacteristics]}\n",
    "#features = features|{\"BitcoinAddresses\": [pe.OPTIONAL_HEADER.DllCharacteristics]}\n",
    "features = features|{\"MajorLinkerVersion\": [pe.OPTIONAL_HEADER.MajorLinkerVersion]}\n",
    "features = features|{\"MinorLinkerVersion\": [pe.OPTIONAL_HEADER.MinorLinkerVersion]}\n",
    "features = features|{\"NumberOfSections\": [pe.FILE_HEADER.NumberOfSections]}\n",
    "features = features|{\"ResourceSize\": [pe.OPTIONAL_HEADER.DATA_DIRECTORY[2].Size]}\n",
    "features = features|{\"DebugRVA\": [pe.OPTIONAL_HEADER.DATA_DIRECTORY[6].VirtualAddress]}\n",
    "features = features|{\"ExportRVA\": [pe.OPTIONAL_HEADER.DATA_DIRECTORY[0].VirtualAddress]}\n",
    "print(features)\n",
    "df_input_predict = pd.DataFrame(features)\n",
    "\n",
    "\n",
    "\n",
    "print(df_input_predict)"
   ]
  },
  {
   "cell_type": "code",
   "execution_count": 5,
   "metadata": {},
   "outputs": [
    {
     "name": "stdout",
     "output_type": "stream",
     "text": [
      "[1]\n"
     ]
    }
   ],
   "source": [
    "with open(\"Models/RansomwareDetector_RandomForest\",'rb') as f:\n",
    "    model = pickle.load(f)\n",
    "result = model.predict(df_input_predict)\n",
    "print(result)"
   ]
  }
 ],
 "metadata": {
  "kernelspec": {
   "display_name": "Python 3",
   "language": "python",
   "name": "python3"
  },
  "language_info": {
   "codemirror_mode": {
    "name": "ipython",
    "version": 3
   },
   "file_extension": ".py",
   "mimetype": "text/x-python",
   "name": "python",
   "nbconvert_exporter": "python",
   "pygments_lexer": "ipython3",
   "version": "3.10.11"
  }
 },
 "nbformat": 4,
 "nbformat_minor": 2
}
